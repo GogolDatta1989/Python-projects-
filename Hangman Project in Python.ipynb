{
 "cells": [
  {
   "cell_type": "code",
   "execution_count": 2,
   "id": "94f64edf",
   "metadata": {},
   "outputs": [],
   "source": [
    "import random # This is used to randomly choose an item from a list [] or basically a sequence.\n",
    "import time   # This module is used to import the actual time from your pc to use in the program."
   ]
  },
  {
   "cell_type": "code",
   "execution_count": 3,
   "id": "403a94a1",
   "metadata": {},
   "outputs": [
    {
     "name": "stdout",
     "output_type": "stream",
     "text": [
      "\n",
      "Welcome to Hangman game by DataFlair\n",
      "\n"
     ]
    }
   ],
   "source": [
    "print(\"\\nWelcome to Hangman game by DataFlair\\n\")\n"
   ]
  },
  {
   "cell_type": "code",
   "execution_count": 4,
   "id": "57172912",
   "metadata": {},
   "outputs": [
    {
     "name": "stdout",
     "output_type": "stream",
     "text": [
      "Enter your name: Deepjeet\n"
     ]
    }
   ],
   "source": [
    "name = input(\"Enter your name: \")\n"
   ]
  },
  {
   "cell_type": "code",
   "execution_count": 5,
   "id": "a1d24d05",
   "metadata": {},
   "outputs": [
    {
     "name": "stdout",
     "output_type": "stream",
     "text": [
      "Hello Deepjeet! Best of Luck!\n"
     ]
    }
   ],
   "source": [
    "print(\"Hello \" + name + \"! Best of Luck!\")"
   ]
  },
  {
   "cell_type": "code",
   "execution_count": 6,
   "id": "5a60a68c",
   "metadata": {},
   "outputs": [],
   "source": [
    "time.sleep(2) # This is used to halt the execution of the program for a few seconds. "
   ]
  },
  {
   "cell_type": "code",
   "execution_count": 7,
   "id": "829c5a19",
   "metadata": {},
   "outputs": [
    {
     "name": "stdout",
     "output_type": "stream",
     "text": [
      "The game is about to start!\n",
      " Let's play Hangman!\n"
     ]
    }
   ],
   "source": [
    "print(\"The game is about to start!\\n Let's play Hangman!\")\n"
   ]
  },
  {
   "cell_type": "code",
   "execution_count": 8,
   "id": "fc751811",
   "metadata": {},
   "outputs": [],
   "source": [
    "time.sleep(3)\n"
   ]
  },
  {
   "cell_type": "code",
   "execution_count": 16,
   "id": "e7e8e7ef",
   "metadata": {},
   "outputs": [],
   "source": [
    "def main():\n",
    "    global count    # global is used so that the arguments can be used further in other functions\n",
    "    global display\n",
    "    global word\n",
    "    global already_guessed\n",
    "    global length\n",
    "    global play_game\n",
    "    words_to_guess = [\"january\",\"border\",\"image\",\"film\",\"promise\",\"kids\",\"lungs\",\"doll\",\"rhyme\",\"damage\",\"plants\"] # words required in hangman \n",
    "    word = random.choice(words_to_guess) # we are using random command to choice the words randomly\n",
    "    length = len(word) # gives us the length of the string\n",
    "    count = 0 #\n",
    "    display = '_' * length # draws a line according to the length of word\n",
    "    already_guessed = [] # string indices of the correctly guessed words\n",
    "    play_game = \"\""
   ]
  },
  {
   "cell_type": "code",
   "execution_count": null,
   "id": "f49ffdd0",
   "metadata": {},
   "outputs": [],
   "source": []
  }
 ],
 "metadata": {
  "kernelspec": {
   "display_name": "Python 3",
   "language": "python",
   "name": "python3"
  },
  "language_info": {
   "codemirror_mode": {
    "name": "ipython",
    "version": 3
   },
   "file_extension": ".py",
   "mimetype": "text/x-python",
   "name": "python",
   "nbconvert_exporter": "python",
   "pygments_lexer": "ipython3",
   "version": "3.8.8"
  }
 },
 "nbformat": 4,
 "nbformat_minor": 5
}
